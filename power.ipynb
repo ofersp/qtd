{
 "cells": [
  {
   "cell_type": "code",
   "execution_count": 1,
   "metadata": {
    "inputHidden": false,
    "outputHidden": false
   },
   "outputs": [
    {
     "data": {
      "image/png": "[encoded data removed]",
      "text/plain": [
       "<Figure size 324x158.4 with 1 Axes>"
      ]
     },
     "metadata": {
      "needs_background": "light"
     },
     "output_type": "display_data"
    },
    {
     "data": {
      "text/plain": [
       "<Figure size 432x288 with 0 Axes>"
      ]
     },
     "metadata": {},
     "output_type": "display_data"
    }
   ],
   "source": [
    "import numpy as np\n",
    "import matplotlib.pyplot as plt\n",
    "\n",
    "tau = np.pi\n",
    "alphas = [0.66]\n",
    "sigma_f = 0.1\n",
    "gamma = 2.0\n",
    "w_min = 1.0/10\n",
    "w_max = 7.0\n",
    "\n",
    "plt.figure(figsize=(4.5, 2.2))\n",
    "for alpha in alphas:\n",
    "    w = np.linspace(w_min, w_max, 100)\n",
    "    power = (1.0/w**gamma)*(1+alpha**2+2*alpha*np.cos(w*tau))\n",
    "    plt.semilogy(w, power)\n",
    "plt.xlabel(r'$\\omega$')\n",
    "plt.ylabel(r'$\\mathrm{E}[|\\hat{F}(\\omega)|^2]$')\n",
    "plt.tight_layout()\n",
    "\n",
    "plt.show()\n",
    "plt.savefig('figures/power.pdf')"
   ]
  },
  {
   "cell_type": "code",
   "execution_count": null,
   "metadata": {},
   "outputs": [],
   "source": []
  }
 ],
 "metadata": {
  "kernel_info": {
   "name": "python3"
  },
  "kernelspec": {
   "display_name": "Python 3",
   "language": "python",
   "name": "python3"
  },
  "language_info": {
   "codemirror_mode": {
    "name": "ipython",
    "version": 3
   },
   "file_extension": ".py",
   "mimetype": "text/x-python",
   "name": "python",
   "nbconvert_exporter": "python",
   "pygments_lexer": "ipython3",
   "version": "3.7.3"
  },
  "nteract": {
   "version": "0.15.0"
  }
 },
 "nbformat": 4,
 "nbformat_minor": 1
}
